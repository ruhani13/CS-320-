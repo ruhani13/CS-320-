{
 "cells": [
  {
   "cell_type": "code",
   "execution_count": 1,
   "metadata": {},
   "outputs": [],
   "source": [
    "# project: p1\n",
    "# submitter: rarora23\n",
    "# partner: none\n",
    "# hours: 20"
   ]
  },
  {
   "cell_type": "code",
   "execution_count": 2,
   "metadata": {},
   "outputs": [],
   "source": [
    "from subprocess import check_output, CalledProcessError\n",
    "import pandas as pd\n",
    "from pandas import Series, DataFrame\n",
    "import matplotlib \n",
    "from matplotlib import pyplot as plt\n",
    "import json\n",
    "from random import choice\n",
    "from time import time\n",
    "%matplotlib inline"
   ]
  },
  {
   "cell_type": "code",
   "execution_count": 3,
   "metadata": {},
   "outputs": [
    {
     "data": {
      "text/plain": [
       "b\"Your branch is up to date with 'origin/main'.\\n\""
      ]
     },
     "execution_count": 3,
     "metadata": {},
     "output_type": "execute_result"
    }
   ],
   "source": [
    "check_output([\"git\", \"checkout\", \"main\"], cwd = \"repo\")"
   ]
  },
  {
   "cell_type": "code",
   "execution_count": 4,
   "metadata": {},
   "outputs": [],
   "source": [
    "output = check_output([\"git\", \"log\"], cwd=\"repo\")\n",
    "str_output = str(output, encoding=\"utf-8\")\n",
    "list_lines = list(str_output.split())"
   ]
  },
  {
   "cell_type": "code",
   "execution_count": 5,
   "metadata": {},
   "outputs": [
    {
     "data": {
      "text/plain": [
       "8"
      ]
     },
     "execution_count": 5,
     "metadata": {},
     "output_type": "execute_result"
    }
   ],
   "source": [
    "#q1 How many commits are in the repo?\n",
    "num_count = 0\n",
    "for commits in list_lines :\n",
    "    if \"commit\" in commits:\n",
    "        num_count +=1\n",
    "num_count"
   ]
  },
  {
   "cell_type": "code",
   "execution_count": 6,
   "metadata": {},
   "outputs": [
    {
     "data": {
      "text/plain": [
       "{'Steve': 3, 'Ada': 3, 'Linus': 2}"
      ]
     },
     "execution_count": 6,
     "metadata": {},
     "output_type": "execute_result"
    }
   ],
   "source": [
    "#q2 How many commits were there by each author?\n",
    "author_list = []\n",
    "author_dict = {}\n",
    "for i in range(len(list_lines)):\n",
    "    if \"Author\" in list_lines[i]:\n",
    "        author_list.append(list_lines[i+1])\n",
    "for authors in author_list:\n",
    "        if authors in author_dict:\n",
    "            author_dict[authors] += 1\n",
    "        else:\n",
    "            author_dict[authors] = 1\n",
    "author_dict"
   ]
  },
  {
   "cell_type": "code",
   "execution_count": 7,
   "metadata": {},
   "outputs": [
    {
     "data": {
      "text/plain": [
       "<AxesSubplot:ylabel='Commit Count'>"
      ]
     },
     "execution_count": 7,
     "metadata": {},
     "output_type": "execute_result"
    },
    {
     "data": {
      "image/png": "[encoded data removed]",
      "text/plain": [
       "<Figure size 216x216 with 1 Axes>"
      ]
     },
     "metadata": {
      "needs_background": "light"
     },
     "output_type": "display_data"
    }
   ],
   "source": [
    "#q3 How many commits did each developer contribute?\n",
    "def get_ax():\n",
    "    ax = Series(author_dict).plot.bar(figsize = (3,3), color = \"black\", fontsize = 16, ylim = (0,3))\n",
    "    #ax = plt.subplot()\n",
    "    ax.spines[\"top\"].set_visible(False)\n",
    "    ax.spines[\"right\"].set_visible(False)\n",
    "    ax.set_ylabel(\"Commit Count\", fontsize = 16)\n",
    "    return ax\n",
    "get_ax()"
   ]
  },
  {
   "cell_type": "code",
   "execution_count": 8,
   "metadata": {},
   "outputs": [
    {
     "data": {
      "text/plain": [
       "[21, 35, 35, 39, 40, 40, 40, 43]"
      ]
     },
     "execution_count": 8,
     "metadata": {},
     "output_type": "execute_result"
    }
   ],
   "source": [
    "#q4 How has the size of the wc.py code grown over time?\n",
    "def line_counter(given_code):\n",
    "    num = 0\n",
    "    for i in given_code:\n",
    "        num += 1\n",
    "    return num - 1\n",
    "\n",
    "commit_list = []\n",
    "for commits in range(len(list_lines)):\n",
    "    if \"commit\" in list_lines[commits]:\n",
    "        commit_list.append(list_lines[commits+1])\n",
    "commit_list.reverse()\n",
    "code_lines = []\n",
    "for commit in commit_list:\n",
    "    check_output([\"git\", \"checkout\", commit], cwd=\"repo\")\n",
    "    output_str = str(check_output([\"cat\", \"wc.py\"], cwd = \"repo\",encoding='utf-8')).split(\"\\n\")\n",
    "    code_lines.append(line_counter(output_str))\n",
    "code_lines"
   ]
  },
  {
   "cell_type": "code",
   "execution_count": 9,
   "metadata": {},
   "outputs": [
    {
     "data": {
      "text/plain": [
       "Text(0, 0.5, 'Lines')"
      ]
     },
     "execution_count": 9,
     "metadata": {},
     "output_type": "execute_result"
    },
    {
     "data": {
      "image/png": "[encoded data removed]",
      "text/plain": [
       "<Figure size 432x288 with 1 Axes>"
      ]
     },
     "metadata": {
      "needs_background": "light"
     },
     "output_type": "display_data"
    }
   ],
   "source": [
    "#q5 How has the size of the wc.py code grown over time?\n",
    "ax = Series(code_lines).plot.line(xlim = (0,8), ylim = (0,45), color = \"red\")\n",
    "ax.spines[\"top\"].set_visible(False)\n",
    "ax.spines[\"right\"].set_visible(False)\n",
    "ax.set_xlabel(\"Commit\", fontsize = 16)\n",
    "ax.set_ylabel(\"Lines\", fontsize = 16)"
   ]
  },
  {
   "cell_type": "code",
   "execution_count": 10,
   "metadata": {},
   "outputs": [],
   "source": [
    "def run_wc(body, commit=\"main\"):\n",
    "    check_output([\"git\", \"checkout\", commit], cwd = \"repo\")\n",
    "    file = open(\"repo/test.txt\", \"w\") \n",
    "    file.write(body)\n",
    "    file.close()  \n",
    "    try:\n",
    "        output = json.loads(check_output([\"python3\", \"wc.py\",\"test.txt\", \"ALL\"], cwd = \"repo\", universal_newlines = True))\n",
    "        return output\n",
    "    except CalledProcessError:\n",
    "        return None"
   ]
  },
  {
   "cell_type": "code",
   "execution_count": 11,
   "metadata": {},
   "outputs": [],
   "source": [
    "# test inputs to exercise wc.py\n",
    "\n",
    "# expected result: {'X': 1, 'Y': 1, 'Z': 1}\n",
    "test1 = \"\"\"X Y Z\"\"\"\n",
    "\n",
    "# expected result: \n",
    "test2 = \"\"\"A B\n",
    "A C\n",
    "\"\"\"\n",
    "\n",
    "# expected result: {'A': 2, 'B': 1, 'C': 1}\n",
    "test3 = \"\"\"A B\n",
    "a c\n",
    "\"\"\""
   ]
  },
  {
   "cell_type": "code",
   "execution_count": 12,
   "metadata": {},
   "outputs": [
    {
     "data": {
      "text/plain": [
       "{'X': 1, 'Y': 1, 'Z': 1}"
      ]
     },
     "execution_count": 12,
     "metadata": {},
     "output_type": "execute_result"
    }
   ],
   "source": [
    "#q6 What does run_wc(test1) return?\n",
    "run_wc(test1)"
   ]
  },
  {
   "cell_type": "code",
   "execution_count": 13,
   "metadata": {},
   "outputs": [
    {
     "data": {
      "text/plain": [
       "{'A': 2, 'B': 1, 'C': 1}"
      ]
     },
     "execution_count": 13,
     "metadata": {},
     "output_type": "execute_result"
    }
   ],
   "source": [
    "#q7 What does run_wc(test3) return?\n",
    "run_wc(test3)"
   ]
  },
  {
   "cell_type": "code",
   "execution_count": 14,
   "metadata": {},
   "outputs": [],
   "source": [
    "author_list.reverse()\n",
    "def test_table(body, expected):\n",
    "    truth_value = []\n",
    "    for commit in commit_list:\n",
    "        if run_wc(body, commit) == expected:\n",
    "            truth_value.append(True)\n",
    "        else:\n",
    "            truth_value.append(False)\n",
    "    tst_table = DataFrame({'commit': Series(commit_list), 'author': Series(author_list), 'pass' : Series(truth_value)})\n",
    "    return tst_table        "
   ]
  },
  {
   "cell_type": "code",
   "execution_count": 15,
   "metadata": {},
   "outputs": [
    {
     "data": {
      "text/html": [
       "<div>\n",
       "<style scoped>\n",
       "    .dataframe tbody tr th:only-of-type {\n",
       "        vertical-align: middle;\n",
       "    }\n",
       "\n",
       "    .dataframe tbody tr th {\n",
       "        vertical-align: top;\n",
       "    }\n",
       "\n",
       "    .dataframe thead th {\n",
       "        text-align: right;\n",
       "    }\n",
       "</style>\n",
       "<table border=\"1\" class=\"dataframe\">\n",
       "  <thead>\n",
       "    <tr style=\"text-align: right;\">\n",
       "      <th></th>\n",
       "      <th>commit</th>\n",
       "      <th>author</th>\n",
       "      <th>pass</th>\n",
       "    </tr>\n",
       "  </thead>\n",
       "  <tbody>\n",
       "    <tr>\n",
       "      <th>0</th>\n",
       "      <td>6d7beafb8e79b7a92fed8e67673a33bb7f607dbe</td>\n",
       "      <td>Ada</td>\n",
       "      <td>False</td>\n",
       "    </tr>\n",
       "    <tr>\n",
       "      <th>1</th>\n",
       "      <td>b0df6dbe111f9e28fc3a9c9b841cde5c20c365f9</td>\n",
       "      <td>Linus</td>\n",
       "      <td>True</td>\n",
       "    </tr>\n",
       "    <tr>\n",
       "      <th>2</th>\n",
       "      <td>761627a3ad9ee681f27211326e9149f01764ceee</td>\n",
       "      <td>Linus</td>\n",
       "      <td>True</td>\n",
       "    </tr>\n",
       "    <tr>\n",
       "      <th>3</th>\n",
       "      <td>6f5ca9327e986315ffcacddce5d9d6195c0913b7</td>\n",
       "      <td>Ada</td>\n",
       "      <td>True</td>\n",
       "    </tr>\n",
       "    <tr>\n",
       "      <th>4</th>\n",
       "      <td>f37e610ce055a3d894baac2d9449e6eb77c72320</td>\n",
       "      <td>Steve</td>\n",
       "      <td>True</td>\n",
       "    </tr>\n",
       "    <tr>\n",
       "      <th>5</th>\n",
       "      <td>c10b5a6cb4f06c96f6f221df2d5ec33af767d5c5</td>\n",
       "      <td>Ada</td>\n",
       "      <td>True</td>\n",
       "    </tr>\n",
       "    <tr>\n",
       "      <th>6</th>\n",
       "      <td>f637df3f45bc389e1035cc3aadcf5d81a55f0dc4</td>\n",
       "      <td>Steve</td>\n",
       "      <td>False</td>\n",
       "    </tr>\n",
       "    <tr>\n",
       "      <th>7</th>\n",
       "      <td>4e4128313b8d5b5e5d04f2e8e585f64f7c5831a4</td>\n",
       "      <td>Steve</td>\n",
       "      <td>True</td>\n",
       "    </tr>\n",
       "  </tbody>\n",
       "</table>\n",
       "</div>"
      ],
      "text/plain": [
       "                                     commit author   pass\n",
       "0  6d7beafb8e79b7a92fed8e67673a33bb7f607dbe    Ada  False\n",
       "1  b0df6dbe111f9e28fc3a9c9b841cde5c20c365f9  Linus   True\n",
       "2  761627a3ad9ee681f27211326e9149f01764ceee  Linus   True\n",
       "3  6f5ca9327e986315ffcacddce5d9d6195c0913b7    Ada   True\n",
       "4  f37e610ce055a3d894baac2d9449e6eb77c72320  Steve   True\n",
       "5  c10b5a6cb4f06c96f6f221df2d5ec33af767d5c5    Ada   True\n",
       "6  f637df3f45bc389e1035cc3aadcf5d81a55f0dc4  Steve  False\n",
       "7  4e4128313b8d5b5e5d04f2e8e585f64f7c5831a4  Steve   True"
      ]
     },
     "execution_count": 15,
     "metadata": {},
     "output_type": "execute_result"
    }
   ],
   "source": [
    "#q8 What does test_table(test1, {'X': 1, 'Y': 1, 'Z': 1}) return?\n",
    "test_table(test1, {'X': 1, 'Y': 1, 'Z': 1})"
   ]
  },
  {
   "cell_type": "code",
   "execution_count": 16,
   "metadata": {},
   "outputs": [
    {
     "data": {
      "text/html": [
       "<div>\n",
       "<style scoped>\n",
       "    .dataframe tbody tr th:only-of-type {\n",
       "        vertical-align: middle;\n",
       "    }\n",
       "\n",
       "    .dataframe tbody tr th {\n",
       "        vertical-align: top;\n",
       "    }\n",
       "\n",
       "    .dataframe thead th {\n",
       "        text-align: right;\n",
       "    }\n",
       "</style>\n",
       "<table border=\"1\" class=\"dataframe\">\n",
       "  <thead>\n",
       "    <tr style=\"text-align: right;\">\n",
       "      <th></th>\n",
       "      <th>commit</th>\n",
       "      <th>author</th>\n",
       "      <th>pass</th>\n",
       "    </tr>\n",
       "  </thead>\n",
       "  <tbody>\n",
       "    <tr>\n",
       "      <th>0</th>\n",
       "      <td>6d7beafb8e79b7a92fed8e67673a33bb7f607dbe</td>\n",
       "      <td>Ada</td>\n",
       "      <td>False</td>\n",
       "    </tr>\n",
       "    <tr>\n",
       "      <th>1</th>\n",
       "      <td>b0df6dbe111f9e28fc3a9c9b841cde5c20c365f9</td>\n",
       "      <td>Linus</td>\n",
       "      <td>False</td>\n",
       "    </tr>\n",
       "    <tr>\n",
       "      <th>2</th>\n",
       "      <td>761627a3ad9ee681f27211326e9149f01764ceee</td>\n",
       "      <td>Linus</td>\n",
       "      <td>True</td>\n",
       "    </tr>\n",
       "    <tr>\n",
       "      <th>3</th>\n",
       "      <td>6f5ca9327e986315ffcacddce5d9d6195c0913b7</td>\n",
       "      <td>Ada</td>\n",
       "      <td>True</td>\n",
       "    </tr>\n",
       "    <tr>\n",
       "      <th>4</th>\n",
       "      <td>f37e610ce055a3d894baac2d9449e6eb77c72320</td>\n",
       "      <td>Steve</td>\n",
       "      <td>True</td>\n",
       "    </tr>\n",
       "    <tr>\n",
       "      <th>5</th>\n",
       "      <td>c10b5a6cb4f06c96f6f221df2d5ec33af767d5c5</td>\n",
       "      <td>Ada</td>\n",
       "      <td>True</td>\n",
       "    </tr>\n",
       "    <tr>\n",
       "      <th>6</th>\n",
       "      <td>f637df3f45bc389e1035cc3aadcf5d81a55f0dc4</td>\n",
       "      <td>Steve</td>\n",
       "      <td>False</td>\n",
       "    </tr>\n",
       "    <tr>\n",
       "      <th>7</th>\n",
       "      <td>4e4128313b8d5b5e5d04f2e8e585f64f7c5831a4</td>\n",
       "      <td>Steve</td>\n",
       "      <td>True</td>\n",
       "    </tr>\n",
       "  </tbody>\n",
       "</table>\n",
       "</div>"
      ],
      "text/plain": [
       "                                     commit author   pass\n",
       "0  6d7beafb8e79b7a92fed8e67673a33bb7f607dbe    Ada  False\n",
       "1  b0df6dbe111f9e28fc3a9c9b841cde5c20c365f9  Linus  False\n",
       "2  761627a3ad9ee681f27211326e9149f01764ceee  Linus   True\n",
       "3  6f5ca9327e986315ffcacddce5d9d6195c0913b7    Ada   True\n",
       "4  f37e610ce055a3d894baac2d9449e6eb77c72320  Steve   True\n",
       "5  c10b5a6cb4f06c96f6f221df2d5ec33af767d5c5    Ada   True\n",
       "6  f637df3f45bc389e1035cc3aadcf5d81a55f0dc4  Steve  False\n",
       "7  4e4128313b8d5b5e5d04f2e8e585f64f7c5831a4  Steve   True"
      ]
     },
     "execution_count": 16,
     "metadata": {},
     "output_type": "execute_result"
    }
   ],
   "source": [
    "#q9 What does test_table(test2, {'A': 2, 'B': 1, 'C': 1}) return?\n",
    "test_table(test2, {'A': 2, 'B': 1, 'C': 1})"
   ]
  },
  {
   "cell_type": "code",
   "execution_count": 17,
   "metadata": {},
   "outputs": [
    {
     "data": {
      "text/html": [
       "<div>\n",
       "<style scoped>\n",
       "    .dataframe tbody tr th:only-of-type {\n",
       "        vertical-align: middle;\n",
       "    }\n",
       "\n",
       "    .dataframe tbody tr th {\n",
       "        vertical-align: top;\n",
       "    }\n",
       "\n",
       "    .dataframe thead th {\n",
       "        text-align: right;\n",
       "    }\n",
       "</style>\n",
       "<table border=\"1\" class=\"dataframe\">\n",
       "  <thead>\n",
       "    <tr style=\"text-align: right;\">\n",
       "      <th></th>\n",
       "      <th>commit</th>\n",
       "      <th>author</th>\n",
       "      <th>pass</th>\n",
       "    </tr>\n",
       "  </thead>\n",
       "  <tbody>\n",
       "    <tr>\n",
       "      <th>0</th>\n",
       "      <td>6d7beafb8e79b7a92fed8e67673a33bb7f607dbe</td>\n",
       "      <td>Ada</td>\n",
       "      <td>False</td>\n",
       "    </tr>\n",
       "    <tr>\n",
       "      <th>1</th>\n",
       "      <td>b0df6dbe111f9e28fc3a9c9b841cde5c20c365f9</td>\n",
       "      <td>Linus</td>\n",
       "      <td>False</td>\n",
       "    </tr>\n",
       "    <tr>\n",
       "      <th>2</th>\n",
       "      <td>761627a3ad9ee681f27211326e9149f01764ceee</td>\n",
       "      <td>Linus</td>\n",
       "      <td>False</td>\n",
       "    </tr>\n",
       "    <tr>\n",
       "      <th>3</th>\n",
       "      <td>6f5ca9327e986315ffcacddce5d9d6195c0913b7</td>\n",
       "      <td>Ada</td>\n",
       "      <td>True</td>\n",
       "    </tr>\n",
       "    <tr>\n",
       "      <th>4</th>\n",
       "      <td>f37e610ce055a3d894baac2d9449e6eb77c72320</td>\n",
       "      <td>Steve</td>\n",
       "      <td>True</td>\n",
       "    </tr>\n",
       "    <tr>\n",
       "      <th>5</th>\n",
       "      <td>c10b5a6cb4f06c96f6f221df2d5ec33af767d5c5</td>\n",
       "      <td>Ada</td>\n",
       "      <td>True</td>\n",
       "    </tr>\n",
       "    <tr>\n",
       "      <th>6</th>\n",
       "      <td>f637df3f45bc389e1035cc3aadcf5d81a55f0dc4</td>\n",
       "      <td>Steve</td>\n",
       "      <td>False</td>\n",
       "    </tr>\n",
       "    <tr>\n",
       "      <th>7</th>\n",
       "      <td>4e4128313b8d5b5e5d04f2e8e585f64f7c5831a4</td>\n",
       "      <td>Steve</td>\n",
       "      <td>True</td>\n",
       "    </tr>\n",
       "  </tbody>\n",
       "</table>\n",
       "</div>"
      ],
      "text/plain": [
       "                                     commit author   pass\n",
       "0  6d7beafb8e79b7a92fed8e67673a33bb7f607dbe    Ada  False\n",
       "1  b0df6dbe111f9e28fc3a9c9b841cde5c20c365f9  Linus  False\n",
       "2  761627a3ad9ee681f27211326e9149f01764ceee  Linus  False\n",
       "3  6f5ca9327e986315ffcacddce5d9d6195c0913b7    Ada   True\n",
       "4  f37e610ce055a3d894baac2d9449e6eb77c72320  Steve   True\n",
       "5  c10b5a6cb4f06c96f6f221df2d5ec33af767d5c5    Ada   True\n",
       "6  f637df3f45bc389e1035cc3aadcf5d81a55f0dc4  Steve  False\n",
       "7  4e4128313b8d5b5e5d04f2e8e585f64f7c5831a4  Steve   True"
      ]
     },
     "execution_count": 17,
     "metadata": {},
     "output_type": "execute_result"
    }
   ],
   "source": [
    "#q10 What does test_table(test3, {'A': 2, 'B': 1, 'C': 1}) return?\n",
    "test_table(test3, {'A': 2, 'B': 1, 'C': 1})"
   ]
  },
  {
   "cell_type": "code",
   "execution_count": 18,
   "metadata": {},
   "outputs": [],
   "source": [
    "#write a short comment here about which of the three test inputs is most useful for evaluating the wc.py program.\n",
    "# By analysing the 3 tables, we can see that the test-3 (in Q10) seems to be the most useful\n",
    "# as we csee the pass column we can see the most number of tests being failed as compared to the other tests in \n",
    "# previous questions, which indicates test-3 being most useful in cathcing bugs"
   ]
  },
  {
   "cell_type": "code",
   "execution_count": 19,
   "metadata": {},
   "outputs": [],
   "source": [
    "import string\n",
    "def time_run_sec(uniq_words, total_words, word_size=6, commit= \"main\"):\n",
    "    random_words = string.ascii_lowercase\n",
    "    t_wrds = \"\"\n",
    "    u_wrds = \"\"\n",
    "    l_wrds = []\n",
    "    \n",
    "    for i in range(uniq_words):\n",
    "        u_wrds = \"\"\n",
    "        for j in range(word_size):\n",
    "            u_wrds += choice(random_words) #otherway-random.choices - additional parameter k(to make it run faster)\n",
    "        l_wrds.append(u_wrds)\n",
    "    \n",
    "    for i in range(total_words):\n",
    "        t_wrds += \" \"+(choice(l_wrds))\n",
    "    \n",
    "    t0 = time()\n",
    "    run_wc(t_wrds, commit)\n",
    "    t1 = time()\n",
    "    return t1 - t0\n",
    "\n",
    "def tversion(uniq_w,total_w):\n",
    "    runtime_dict = {}\n",
    "    for v in sorted((versions),reverse = True): \n",
    "        rtime = time_run_sec(uniq_w,total_w, commit = versions[v]) *1000\n",
    "        runtime_dict[v] = rtime\n",
    "    return runtime_dict\n"
   ]
  },
  {
   "cell_type": "code",
   "execution_count": 20,
   "metadata": {},
   "outputs": [],
   "source": [
    "versions = {\n",
    "    \"v0-baseline\": \"6f5ca9327e986315ffcacddce5d9d6195c0913b7\",\n",
    "    \"v1-open-once\": \"f37e610ce055a3d894baac2d9449e6eb77c72320\",\n",
    "    \"v2-pass-per-uniq\": \"c10b5a6cb4f06c96f6f221df2d5ec33af767d5c5\",\n",
    "    \"v3-single-pass\": \"4e4128313b8d5b5e5d04f2e8e585f64f7c5831a4\",\n",
    "}"
   ]
  },
  {
   "cell_type": "code",
   "execution_count": 21,
   "metadata": {},
   "outputs": [
    {
     "data": {
      "text/plain": [
       "Text(0.5, 0, 'Exec Time (ms)')"
      ]
     },
     "execution_count": 21,
     "metadata": {},
     "output_type": "execute_result"
    },
    {
     "data": {
      "image/png": "[encoded data removed]",
      "text/plain": [
       "<Figure size 288x144 with 1 Axes>"
      ]
     },
     "metadata": {
      "needs_background": "light"
     },
     "output_type": "display_data"
    }
   ],
   "source": [
    "#q11 How long does each version take for 5000-word inputs consisting of 100 unique words?\n",
    "\n",
    "time_taken = tversion(100,5000)\n",
    "ax = Series(time_taken).plot.barh(log = True, color = \"black\", xlim = 1e1,figsize = (4,2), fontsize = 15)\n",
    "ax.spines[\"top\"].set_visible(False)\n",
    "ax.spines[\"right\"].set_visible(False)\n",
    "ax.set_xlabel(\"Exec Time (ms)\")\n"
   ]
  },
  {
   "cell_type": "code",
   "execution_count": 22,
   "metadata": {},
   "outputs": [
    {
     "data": {
      "text/plain": [
       "Text(0.5, 0, 'Exec Time (ms)')"
      ]
     },
     "execution_count": 22,
     "metadata": {},
     "output_type": "execute_result"
    },
    {
     "data": {
      "image/png": "[encoded data removed]",
      "text/plain": [
       "<Figure size 288x144 with 1 Axes>"
      ]
     },
     "metadata": {
      "needs_background": "light"
     },
     "output_type": "display_data"
    }
   ],
   "source": [
    "#q12 How long does each version take for 5000-word inputs consisting of 1 unique word?\n",
    "\n",
    "time_taken = tversion(1,5000)\n",
    "ax = Series(time_taken).plot.barh(log = True, color = \"black\", xlim = 1e1 , figsize = (4,2), fontsize = 15)\n",
    "ax.spines[\"top\"].set_visible(False)\n",
    "ax.spines[\"right\"].set_visible(False)\n",
    "ax.set_xlabel(\"Exec Time (ms)\")"
   ]
  },
  {
   "cell_type": "code",
   "execution_count": 23,
   "metadata": {},
   "outputs": [],
   "source": [
    "#write a short comment here with a hypothesis about when the v3 version does better than the v2 version.\n",
    "# From the graphical analysis we can interpret that the version3 works better than the version 2 in the case\n",
    "# when there are more unique words as compared to the case when there are less unique words"
   ]
  },
  {
   "cell_type": "code",
   "execution_count": 24,
   "metadata": {},
   "outputs": [
    {
     "data": {
      "text/plain": [
       "<AxesSubplot:title={'center':'version-3'}, xlabel='total words'>"
      ]
     },
     "execution_count": 24,
     "metadata": {},
     "output_type": "execute_result"
    },
    {
     "data": {
      "image/png": "[encoded data removed]",
      "text/plain": [
       "<Figure size 1080x360 with 2 Axes>"
      ]
     },
     "metadata": {
      "needs_background": "light"
     },
     "output_type": "display_data"
    }
   ],
   "source": [
    "#q13 How does the number of total words and unique percent affect the performance of versions 2 and 3?\n",
    "\n",
    "#create a data frame , give index, column\n",
    "#then add vals in it \n",
    "#loop through col names and then total words \n",
    "#assign the i,j values in df with the return value \n",
    "# df.loc[some_row, some_col] = some_value\n",
    "\n",
    "total_words = [1000, 2000, 5000, 10000]\n",
    "perct_uniq = [.10, .05, .01]\n",
    "    \n",
    "# def perf_measu(uniq_words, total_words,commit, word_size=6):    \n",
    "#     df = pd.DataFrame(index=[1000, 2000, 5000, 10000], columns=[10, 5, 1])\n",
    "#     df.index.name = \"total words\"\n",
    "#     df.columns.name = \"percent uniq\"\n",
    "#     for i in range(len(perct_uniq)):\n",
    "#         for j in  range(len(total_words)):\n",
    "#             uniq_words = int(perct_uniq[i]*total_words[j]) \n",
    "#             df.loc[i,j] = time_run_sec(uniq_words, total_words[j], word_size=6, commit= commit)\n",
    "#     return df\n",
    "\n",
    "#create empty dictionary with each percent val in dict maybe ? \n",
    "#try to append various values in a dict of dict \n",
    "#dict of dict --> {0.1:{its values for total words}},0.05:{\"\"},0.01:{\"\"}}\n",
    "#create dataframe\n",
    "\n",
    "def perf_measu(uniq_words, total_words,commit, word_size=6):\n",
    "    dic = {}\n",
    "    for i in range(len(perct_uniq)):\n",
    "        if perct_uniq[i] not in dic:\n",
    "            dic[perct_uniq[i]] = {}\n",
    "            #print(dic)\n",
    "        for j in  range(len(total_words)):\n",
    "            uniq_words = int(perct_uniq[i]*total_words[j]) \n",
    "            dic[perct_uniq[i]][total_words[j]] = time_run_sec(uniq_words, total_words[j], word_size=6, commit= commit)\n",
    "           # print(dic)\n",
    "    df = pd.DataFrame(dic)\n",
    "    return df\n",
    "\n",
    "vr2 = perf_measu(perct_uniq, total_words,versions[\"v2-pass-per-uniq\"],6) \n",
    "vr3 = perf_measu(perct_uniq, total_words,versions[\"v3-single-pass\"],6)\n",
    "\n",
    "#plot code line reference stackoverflow + piazza\n",
    "\n",
    "fig, axes = plt.subplots(nrows = 1, ncols = 2, figsize=(15,5),sharey = True)\n",
    "vr2.plot.line(ax=axes[0],xlabel = \"total words\",ylabel = \"time(s)\",xlim = 0, title = \"version-2\", legend = False)\n",
    "vr3.plot.line(ax=axes[1],xlabel = \"total words\",xlim = 0,title = \"version-3\")"
   ]
  },
  {
   "cell_type": "code",
   "execution_count": 25,
   "metadata": {},
   "outputs": [],
   "source": [
    "class Commit:\n",
    "    def __init__(self, commit_hex, author, message):\n",
    "        self.commit_hex = commit_hex\n",
    "        self.author = author\n",
    "        self.message = message\n",
    "        \n",
    "    def __str__(self):\n",
    "        return f\"{self.commit_hex}[{self.author}]: {self.message}\"\n",
    "    \n",
    "class Repo:  \n",
    "    \n",
    "#constructor created by default in this class\n",
    "#creating list and dicts to store the new commit commit\n",
    "    repo_list = []\n",
    "    repo_dict = {}\n",
    "\n",
    "#sequence lect notes reference\n",
    "    def __getitem__(self,index):\n",
    "        if type(index) == int:\n",
    "            return self.repo_list[index]\n",
    "        elif type(index) == str:\n",
    "            return self.repo_dict[index.upper().strip()]\n",
    "\n",
    "    def commit(self, commit_hex, author, message):\n",
    "        commit_obj = Commit(commit_hex, author, message)\n",
    "        self.repo_list.append(commit_obj)\n",
    "        self.repo_dict[commit_obj.commit_hex] = commit_obj\n",
    "        return commit_obj"
   ]
  },
  {
   "cell_type": "code",
   "execution_count": 26,
   "metadata": {},
   "outputs": [
    {
     "data": {
      "text/plain": [
       "('A39DE2', 'Ben', 'added a readme', 'B143D0', 'Jaime', 'optimized the code')"
      ]
     },
     "execution_count": 26,
     "metadata": {},
     "output_type": "execute_result"
    }
   ],
   "source": [
    "#q14 what does running the following in a cell produce?\n",
    "repo = Repo()\n",
    "c1 = repo.commit(\"A39DE2\", \"Aarushi\", \"created the repo\")\n",
    "c2 = repo.commit(\"D1E9C5\", \"Ben\", \"wrote some code\")\n",
    "c3 = repo.commit(\"AA0912\", \"Emma\", \"added a readme\")\n",
    "c4 = repo.commit(\"B143D0\", \"Hunter\", \"made some tests\")\n",
    "c5 = repo.commit(\"F0148D\", \"Jaime\", \"fixed a bug\")\n",
    "c6 = repo.commit(\"B978EE\", \"Wendy\", \"optimized the code\")\n",
    "c1.commit_hex, c2.author, c3.message, c4.commit_hex, c5.author, c6.message"
   ]
  },
  {
   "cell_type": "code",
   "execution_count": 27,
   "metadata": {},
   "outputs": [
    {
     "data": {
      "text/plain": [
       "('A39DE2[Aarushi]: created the repo',\n",
       " 'D1E9C5[Ben]: wrote some code',\n",
       " 'B978EE[Wendy]: optimized the code')"
      ]
     },
     "execution_count": 27,
     "metadata": {},
     "output_type": "execute_result"
    }
   ],
   "source": [
    "#q15 what does running the following in a cell produce?\n",
    "str(c1), str(repo[1]), str(repo[-1])"
   ]
  },
  {
   "cell_type": "code",
   "execution_count": 28,
   "metadata": {},
   "outputs": [
    {
     "data": {
      "text/plain": [
       "('F0148D[Jaime]: fixed a bug',\n",
       " 'B143D0[Hunter]: made some tests',\n",
       " 'AA0912[Emma]: added a readme')"
      ]
     },
     "execution_count": 28,
     "metadata": {},
     "output_type": "execute_result"
    }
   ],
   "source": [
    "#q16 what does running the following in a cell produce?\n",
    "str(repo[\"F0148D\"]), str(repo[\"b143d0\"]), str(repo[\"  AA0912  \"])"
   ]
  },
  {
   "cell_type": "code",
   "execution_count": null,
   "metadata": {},
   "outputs": [],
   "source": []
  }
 ],
 "metadata": {
  "kernelspec": {
   "display_name": "Python 3",
   "language": "python",
   "name": "python3"
  },
  "language_info": {
   "codemirror_mode": {
    "name": "ipython",
    "version": 3
   },
   "file_extension": ".py",
   "mimetype": "text/x-python",
   "name": "python",
   "nbconvert_exporter": "python",
   "pygments_lexer": "ipython3",
   "version": "3.8.3"
  }
 },
 "nbformat": 4,
 "nbformat_minor": 5
}
